{
  "nbformat": 4,
  "nbformat_minor": 0,
  "metadata": {
    "colab": {
      "name": "Programming 2.ipynb",
      "provenance": [],
      "collapsed_sections": []
    },
    "kernelspec": {
      "name": "python3",
      "display_name": "Python 3"
    },
    "language_info": {
      "name": "python"
    }
  },
  "cells": [
    {
      "cell_type": "code",
      "source": [
        "import pandas as pd\n",
        "import numpy as np\n",
        "from sklearn import metrics \n",
        "import math\n",
        "from sklearn.model_selection import train_test_split"
      ],
      "metadata": {
        "id": "swN3pt6NiUYz"
      },
      "execution_count": 5,
      "outputs": []
    },
    {
      "cell_type": "markdown",
      "source": [
        "# Load data"
      ],
      "metadata": {
        "id": "21Aiv-BB49Zp"
      }
    },
    {
      "cell_type": "code",
      "source": [
        "df = pd.read_csv(\"spambase.data\", header = None)"
      ],
      "metadata": {
        "id": "BIR7baIFgxsY"
      },
      "execution_count": 6,
      "outputs": []
    },
    {
      "cell_type": "markdown",
      "source": [
        "# Create training and test set"
      ],
      "metadata": {
        "id": "dMpmtSHNsRF8"
      }
    },
    {
      "cell_type": "code",
      "source": [
        "# get the locations\n",
        "X = df.iloc[:, :-1]\n",
        "y = df.iloc[:, -1]\n",
        " \n",
        "# split the dataset\n",
        "X_train, X_test, y_train, y_test = train_test_split(\n",
        "    X, y, test_size=0.5, stratify=y)"
      ],
      "metadata": {
        "id": "2YBCEM3dG0bt"
      },
      "execution_count": 7,
      "outputs": []
    },
    {
      "cell_type": "markdown",
      "source": [
        "# Create probabilistic model"
      ],
      "metadata": {
        "id": "FiwF65CTsUZO"
      }
    },
    {
      "cell_type": "code",
      "source": [
        "# from series to numpy\n",
        "X_train = X_train.to_numpy()\n",
        "y_train = y_train.to_numpy()\n",
        "X_test = X_test.to_numpy()\n",
        "y_test = y_test.to_numpy()"
      ],
      "metadata": {
        "id": "ElDIMtTtWrwD"
      },
      "execution_count": 8,
      "outputs": []
    },
    {
      "cell_type": "code",
      "source": [
        "# get the prior P(0) and P(1)\n",
        "y_train = y_train.reshape(len(y_train),1)\n",
        " \n",
        "count0 = 0\n",
        "count1 = 0\n",
        "for i in range(len(y_train)):\n",
        "  if y_train[i,0] == 1:\n",
        "    count1 += 1\n",
        "  else:\n",
        "    count0 += 1\n",
        "\n",
        "# calculate the prior probability for each class\n",
        "P_class_1 = count1 / len(y_train) # 0.4\n",
        "P_class_0 = count0 / len(y_train) # 0.6\n",
        "\n",
        "print(\"P(0) is: \", P_class_0)\n",
        "print(\"P(1) is: \", P_class_1)"
      ],
      "metadata": {
        "colab": {
          "base_uri": "https://localhost:8080/"
        },
        "id": "U6GpZL7yXLCn",
        "outputId": "350543b7-b6c1-42d6-fb6f-289455e42c5f"
      },
      "execution_count": 9,
      "outputs": [
        {
          "output_type": "stream",
          "name": "stdout",
          "text": [
            "P(0) is:  0.6060869565217392\n",
            "P(1) is:  0.3939130434782609\n"
          ]
        }
      ]
    },
    {
      "cell_type": "code",
      "source": [
        "class_0 = []\n",
        "class_1 = []\n",
        "\n",
        "for i in range(len(X_train)):\n",
        "  if y_train[i] == 1:\n",
        "    class_1.append(X_train[i,:])\n",
        "  else:\n",
        "    class_0.append(X_train[i,:])"
      ],
      "metadata": {
        "id": "AZ4FLvC2rthU"
      },
      "execution_count": 10,
      "outputs": []
    },
    {
      "cell_type": "code",
      "source": [
        "# compute the mean and standard deviation for 57 features\n",
        "class_0 = pd.DataFrame(class_0)\n",
        "mean_0 = class_0.mean(axis = 0)\n",
        "std_0 = class_0.std()\n",
        "\n",
        "class_1 = pd.DataFrame(class_1)\n",
        "mean_1 = class_1.mean(axis = 0)\n",
        "std_1 = class_1.std()"
      ],
      "metadata": {
        "id": "BspJPp_i5JKf"
      },
      "execution_count": 11,
      "outputs": []
    },
    {
      "cell_type": "code",
      "source": [
        "# combine the mean and std for each class (each matrix should be 2 by 57) \n",
        "mean = np.vstack((mean_0, mean_1))\n",
        "std = np.vstack((std_0, std_1))"
      ],
      "metadata": {
        "id": "VcMSYsc0BMoZ"
      },
      "execution_count": 12,
      "outputs": []
    },
    {
      "cell_type": "code",
      "source": [
        "# assign a minimal std (0.0001) if a feature has zero std\n",
        "for i in range(std.shape[0]):\n",
        "  for j in range(std.shape[1]):\n",
        "    if std[i,j] == 0:\n",
        "      std[i,j] = 0.0001 "
      ],
      "metadata": {
        "id": "0kU8m9Y-mlXf"
      },
      "execution_count": 13,
      "outputs": []
    },
    {
      "cell_type": "markdown",
      "source": [
        "# Run Naive Bayes on the test data"
      ],
      "metadata": {
        "id": "imScVJ06sa2U"
      }
    },
    {
      "cell_type": "code",
      "source": [
        "N0 = np.zeros((X_test.shape[0], X_test.shape[1]))\n",
        "N1 = np.zeros((X_test.shape[0], X_test.shape[1]))\n",
        "\n",
        "for i in range(X_test.shape[0]):\n",
        "  N0[i,:] = (1 / (math.sqrt(2 * math.pi) * std[0,:])) * np.exp(-np.power((X_test[i,:] - mean[0,:]), 2) / (2 * np.power(std[0,:], 2)))\n",
        "  N1[i,:] = (1 / (math.sqrt(2 * math.pi) * std[1,:])) * np.exp(-np.power((X_test[i,:] - mean[1,:]), 2) / (2 * np.power(std[1,:], 2)))"
      ],
      "metadata": {
        "id": "AFh4dDj5sgjs"
      },
      "execution_count": 14,
      "outputs": []
    },
    {
      "cell_type": "code",
      "source": [
        "pred = np.array([0 for k in range(y_test.shape[0])]) # store the predictions\n",
        "\n",
        "for i in range(X_test.shape[0]):\n",
        "  class_NB_0 = np.log(P_class_0) + np.sum(np.log(N0[i,:]))\n",
        "  class_NB_1 = np.log(P_class_1) + np.sum(np.log(N1[i,:]))\n",
        "  \n",
        "  if class_NB_0 >= class_NB_1:\n",
        "    pred[i] = 0\n",
        "  else:\n",
        "    pred[i] = 1"
      ],
      "metadata": {
        "id": "_VgZeuoHO2Rt"
      },
      "execution_count": null,
      "outputs": []
    },
    {
      "cell_type": "markdown",
      "source": [
        "Compute confusion matrix, accuracy, recall, precision, and F1 score"
      ],
      "metadata": {
        "id": "kD--Fhvt5H9H"
      }
    },
    {
      "cell_type": "code",
      "source": [
        "confusion_matrix = metrics.confusion_matrix(y_test, pred)\n",
        "accuracy = metrics.accuracy_score(y_test, pred)\n",
        "recall = metrics.recall_score(y_test, pred) # tp / (tp + fn)\n",
        "precision = metrics.precision_score(y_test, pred) # tp / (tp + fp)\n",
        "F1_score = metrics.f1_score(y_test, pred) \n",
        "\n",
        "print(\"Confusion matrix is: \\n\", confusion_matrix)\n",
        "print(\"Accuracy is: \", accuracy)\n",
        "print(\"Recall is: \", recall)\n",
        "print(\"Precision is: \", precision)\n",
        "print(\"F1 score is: \", F1_score)"
      ],
      "metadata": {
        "colab": {
          "base_uri": "https://localhost:8080/"
        },
        "id": "s0ThatFDT9cx",
        "outputId": "9f86e5e7-1785-485f-9b01-91c4e6e2ee78"
      },
      "execution_count": 17,
      "outputs": [
        {
          "output_type": "stream",
          "name": "stdout",
          "text": [
            "Confusion matrix is: \n",
            " [[1038  356]\n",
            " [  50  857]]\n",
            "Accuracy is:  0.823554976097349\n",
            "Recall is:  0.9448732083792724\n",
            "Precision is:  0.7065127782357791\n",
            "F1 score is:  0.808490566037736\n"
          ]
        }
      ]
    },
    {
      "cell_type": "markdown",
      "source": [
        "Check correlations between features using the covariant matrix "
      ],
      "metadata": {
        "id": "17rCZ5Aikiz5"
      }
    },
    {
      "cell_type": "code",
      "source": [
        "np.cov(X_train)"
      ],
      "metadata": {
        "colab": {
          "base_uri": "https://localhost:8080/"
        },
        "id": "J4RwZVvCcKUK",
        "outputId": "ff5a2ffc-244c-40d0-d39d-3678cdc082ed"
      },
      "execution_count": 29,
      "outputs": [
        {
          "output_type": "execute_result",
          "data": {
            "text/plain": [
              "array([[9556.75138043,  519.25879723, 1488.40143646, ..., 1733.29090707,\n",
              "        2808.02064388, 1582.46187712],\n",
              "       [ 519.25879723,   29.56624964,   81.54368106, ...,  100.08896558,\n",
              "         152.96511432,   88.4488867 ],\n",
              "       [1488.40143646,   81.54368106,  232.70571564, ...,  272.66120262,\n",
              "         437.46057042,  247.5945606 ],\n",
              "       ...,\n",
              "       [1733.29090707,  100.08896558,  272.66120262, ...,  343.96037847,\n",
              "         510.93927078,  298.90557727],\n",
              "       [2808.02064388,  152.96511432,  437.46057042, ...,  510.93927078,\n",
              "         825.35394353,  465.70759844],\n",
              "       [1582.46187712,   88.4488867 ,  247.5945606 , ...,  298.90557727,\n",
              "         465.70759844,  267.00310704]])"
            ]
          },
          "metadata": {},
          "execution_count": 29
        }
      ]
    }
  ]
}